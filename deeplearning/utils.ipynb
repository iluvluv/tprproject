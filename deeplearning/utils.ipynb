{
  "nbformat": 4,
  "nbformat_minor": 0,
  "metadata": {
    "colab": {
      "name": "Untitled0.ipynb",
      "provenance": []
    },
    "kernelspec": {
      "name": "python3",
      "display_name": "Python 3"
    },
    "language_info": {
      "name": "python"
    }
  },
  "cells": [
    {
      "cell_type": "code",
      "metadata": {
        "id": "k6ZIxrlrFZ0A"
      },
      "source": [
        "import numpy as np\n",
        "import pandas as pd\n",
        "import cv2\n",
        "import tensorflow as tf\n",
        "from tensorflow import keras\n",
        "import sklearn\n",
        "import os\n",
        "import sys\n",
        "import json\n",
        "import matplotlib.pyplot as plt\n",
        "\n",
        "from keras.preprocessing import image\n",
        "from sklearn.preprocessing import OneHotEncoder\n",
        "\n",
        "print(\"opencv2 \"+ cv2.__version__)\n",
        "print(\"keras \"+ keras.__version__)\n",
        "print(\"numpy\" + np.__version__)\n",
        "print(\"pandas \" + pd.__version__)\n",
        "print(\"tensorflow\" + tf.__version__)\n",
        "print(\"sklearn \"+ sklearn.__version__)"
      ],
      "execution_count": null,
      "outputs": []
    },
    {
      "cell_type": "code",
      "metadata": {
        "id": "EpcQor3fFccE"
      },
      "source": [
        "def show_tensor():\n",
        "  import tensorflow as tf\n",
        "  device_name = tf.test.gpu_device_name()\n",
        "  if device_name != '/device:GPU:0':\n",
        "    raise SystemError('GPU device not found')\n",
        "  print('Found GPU at: {}'.format(device_name))"
      ],
      "execution_count": null,
      "outputs": []
    },
    {
      "cell_type": "code",
      "metadata": {
        "id": "neRLK7TmFiht"
      },
      "source": [
        "def make_img_list(file_list, dirs):\n",
        "  #arr = np.empty(len(file_list), dtype=np.ndarray)\n",
        "  arr = list()\n",
        "  for n in range(0,len(file_list)):\n",
        "    temp = cv2.imread(os.path.join(dirs, file_list[n]), cv2.IMREAD_COLOR)\n",
        "    temp = cv2.resize(temp, dsize=(256,256), interpolation=cv2.INTER_LINEAR)\n",
        "    arr.append(temp/255.0)\n",
        "    # print(arr[n])\n",
        "  arr = np.array(arr)\n",
        "  print(arr.shape)\n",
        "  print(type(arr))\n",
        "  return arr"
      ],
      "execution_count": null,
      "outputs": []
    },
    {
      "cell_type": "code",
      "metadata": {
        "id": "iGfxAeXRFieD"
      },
      "source": [
        "def make_img_label_list(file_list, str):\n",
        "  arr = list()\n",
        "  for n in range(0,len(file_list)):\n",
        "    arr.append(str)\n",
        "  arr = np.array(arr)\n",
        "  return arr"
      ],
      "execution_count": null,
      "outputs": []
    },
    {
      "cell_type": "code",
      "metadata": {
        "id": "24lEjfaOFpy1"
      },
      "source": [
        "def make_traintest_set(datas, dataL):\n",
        "  import math\n",
        "  # 0.64 대 0.16  대 0.2 비율로 나눈다.\n",
        "  train_rate = 0.8\n",
        "\n",
        "  tra = math.floor(datas.shape[0] * train_rate)\n",
        "  val = math.floor(tra * train_rate)\n",
        "  return datas[:val], datas[val:], datas[tra:], dataL[:val], dataL[val:], dataL[tra:]"
      ],
      "execution_count": null,
      "outputs": []
    },
    {
      "cell_type": "code",
      "metadata": {
        "id": "-6IXyvXDFsgZ"
      },
      "source": [
        "def concatenate_exec(train_set, data):\n",
        "  for i in data:\n",
        "    train_set = np.concatenate((train_set, i),axis=0)\n",
        "  return train_set"
      ],
      "execution_count": null,
      "outputs": []
    },
    {
      "cell_type": "code",
      "metadata": {
        "id": "CEskvParFt7x"
      },
      "source": [
        "colors = plt.rcParams['axes.prop_cycle'].by_key()['color']\n",
        "def plot_metrics(history):\n",
        "  plt.rcParams['figure.figsize'] = [10, 10]\n",
        "  metrics = ['loss', 'auc', 'precision', 'recall']\n",
        "  for n, metric in enumerate(metrics):\n",
        "    name = metric.replace(\"_\",\" \").capitalize()\n",
        "    plt.subplot(2,2,n+1)\n",
        "    plt.plot(history.epoch, history.history[metric], color=colors[0], label='Train')\n",
        "    plt.plot(history.epoch, history.history['val_'+metric],\n",
        "             color=colors[0], linestyle=\"--\", label='Val')\n",
        "    plt.xlabel('Epoch')\n",
        "    plt.ylabel(name)\n",
        "    if metric == 'loss':\n",
        "      plt.ylim([0, plt.ylim()[1]])\n",
        "    elif metric == 'auc':\n",
        "      plt.ylim([0.8,1])\n",
        "    else:\n",
        "      plt.ylim([0,1])\n",
        "\n",
        "    plt.legend()\n",
        "  "
      ],
      "execution_count": null,
      "outputs": []
    }
  ]
}